{
 "cells": [
  {
   "cell_type": "markdown",
   "id": "5f1e7b7e",
   "metadata": {},
   "source": [
    "<h1>predict survival on the titanic - kaggle competition</h1>"
   ]
  },
  {
   "cell_type": "code",
   "execution_count": 117,
   "id": "1d9e346f",
   "metadata": {},
   "outputs": [],
   "source": [
    "import pandas as pd\n",
    "import numpy as np\n",
    "import pickle\n",
    "import matplotlib.pyplot as plt\n",
    "import keras\n",
    "import seaborn as sns\n",
    "from keras import layers\n",
    "from sklearn.model_selection import train_test_split\n",
    "from sklearn.preprocessing import OneHotEncoder\n",
    "from sklearn.neighbors import KNeighborsClassifier\n",
    "from sklearn.metrics import accuracy_score\n",
    "from sklearn.metrics import recall_score\n",
    "sns.set()"
   ]
  },
  {
   "cell_type": "markdown",
   "id": "7bd3893b",
   "metadata": {},
   "source": [
    "<b>Exclude columns with a high percentage of missing values while importing data and choosing features.</b>"
   ]
  },
  {
   "cell_type": "code",
   "execution_count": 97,
   "id": "ae0bc4cb",
   "metadata": {},
   "outputs": [],
   "source": [
    "df = pd.read_csv(\"train.csv\")\n",
    "X = df.drop([\"Name\",\"Cabin\",\"Ticket\",\"Survived\",\"PassengerId\"],axis=1)\n",
    "Y = df[\"Survived\"]"
   ]
  },
  {
   "cell_type": "markdown",
   "id": "aa9dee4c",
   "metadata": {},
   "source": [
    "<b>one hot encoding the categorical variables</b>"
   ]
  },
  {
   "cell_type": "code",
   "execution_count": 98,
   "id": "3fd71f33",
   "metadata": {},
   "outputs": [],
   "source": [
    "categorical_cols = [\"Sex\",\"Pclass\",\"Embarked\"]\n",
    "X = pd.get_dummies(X,columns=categorical_cols,drop_first=True)"
   ]
  },
  {
   "cell_type": "markdown",
   "id": "f3bb7e05",
   "metadata": {},
   "source": [
    "<b>normalizing nomerical variables</b>"
   ]
  },
  {
   "cell_type": "code",
   "execution_count": 99,
   "id": "4b3acef7",
   "metadata": {},
   "outputs": [],
   "source": [
    "numerical_cols = X[[\"SibSp\",\"Parch\",\"Age\",\"Fare\"]]\n",
    "numerical_cols = (numerical_cols - numerical_cols.mean())/numerical_cols.std()\n",
    "X[[\"SibSp\",\"Parch\",\"Age\",\"Fare\"]] = numerical_cols"
   ]
  },
  {
   "cell_type": "markdown",
   "id": "4de814d9",
   "metadata": {},
   "source": [
    "<b>20% of passengers age are missing but as we guess age is critical information in predicting survival In order to test our assumption that age is a key factor in predicting survival, we first analyse the relationship between survival and age. Then, we attempt to develop a model to estimate missing ages based on other factors.</b>  "
   ]
  },
  {
   "cell_type": "code",
   "execution_count": 100,
   "id": "d5284df2",
   "metadata": {},
   "outputs": [
    {
     "data": {
      "text/html": [
       "<div>\n",
       "<style scoped>\n",
       "    .dataframe tbody tr th:only-of-type {\n",
       "        vertical-align: middle;\n",
       "    }\n",
       "\n",
       "    .dataframe tbody tr th {\n",
       "        vertical-align: top;\n",
       "    }\n",
       "\n",
       "    .dataframe thead th {\n",
       "        text-align: right;\n",
       "    }\n",
       "</style>\n",
       "<table border=\"1\" class=\"dataframe\">\n",
       "  <thead>\n",
       "    <tr style=\"text-align: right;\">\n",
       "      <th></th>\n",
       "      <th>Survived</th>\n",
       "      <th>Age</th>\n",
       "    </tr>\n",
       "  </thead>\n",
       "  <tbody>\n",
       "    <tr>\n",
       "      <th>Survived</th>\n",
       "      <td>1.000000</td>\n",
       "      <td>-0.077221</td>\n",
       "    </tr>\n",
       "    <tr>\n",
       "      <th>Age</th>\n",
       "      <td>-0.077221</td>\n",
       "      <td>1.000000</td>\n",
       "    </tr>\n",
       "  </tbody>\n",
       "</table>\n",
       "</div>"
      ],
      "text/plain": [
       "          Survived       Age\n",
       "Survived  1.000000 -0.077221\n",
       "Age      -0.077221  1.000000"
      ]
     },
     "execution_count": 100,
     "metadata": {},
     "output_type": "execute_result"
    }
   ],
   "source": [
    "df[[\"Survived\",\"Age\"]].corr()"
   ]
  },
  {
   "cell_type": "markdown",
   "id": "330e6af0",
   "metadata": {},
   "source": [
    "<b>here we used pretrained KNN model to predict missed ages</b>"
   ]
  },
  {
   "cell_type": "code",
   "execution_count": 101,
   "id": "c06861be",
   "metadata": {},
   "outputs": [
    {
     "name": "stderr",
     "output_type": "stream",
     "text": [
      "/tmp/ipykernel_21664/386599295.py:5: SettingWithCopyWarning: \n",
      "A value is trying to be set on a copy of a slice from a DataFrame\n",
      "\n",
      "See the caveats in the documentation: https://pandas.pydata.org/pandas-docs/stable/user_guide/indexing.html#returning-a-view-versus-a-copy\n",
      "  X.Age[X.Age.isnull()] = age_prediction_model.predict(X_missed_age)\n"
     ]
    }
   ],
   "source": [
    "#predict missed ages\n",
    "X_missed_age = X[df.Age.isnull()].copy()\n",
    "X_missed_age = X_missed_age[[\"SibSp\",\"Parch\",\"Sex_male\",\"Pclass_2\",\"Pclass_3\"]]\n",
    "age_prediction_model = pickle.load(open(\"KNNRegressor_ageprediction_titanic.sav\",\"rb\"))\n",
    "X.Age[X.Age.isnull()] = age_prediction_model.predict(X_missed_age)"
   ]
  },
  {
   "cell_type": "markdown",
   "id": "4f31cff3",
   "metadata": {},
   "source": [
    "<b>split dataset to train and test</b>"
   ]
  },
  {
   "cell_type": "code",
   "execution_count": 102,
   "id": "8163c536",
   "metadata": {},
   "outputs": [],
   "source": [
    "X_train , X_test , y_train , y_test = train_test_split(X,Y,train_size=0.8)\n",
    "X_train , X_val , y_train , y_val = train_test_split(X_train,y_train,train_size=0.8)"
   ]
  },
  {
   "cell_type": "markdown",
   "id": "f012310e",
   "metadata": {},
   "source": [
    "<b>first we try a simple model for prediction</b>"
   ]
  },
  {
   "cell_type": "code",
   "execution_count": 139,
   "id": "49f2b7df",
   "metadata": {},
   "outputs": [
    {
     "data": {
      "text/plain": [
       "KNeighborsClassifier(n_neighbors=3)"
      ]
     },
     "execution_count": 139,
     "metadata": {},
     "output_type": "execute_result"
    }
   ],
   "source": [
    "model = KNeighborsClassifier(n_neighbors=3)\n",
    "model.fit(X_train,y_train)"
   ]
  },
  {
   "cell_type": "code",
   "execution_count": 140,
   "id": "344da23c",
   "metadata": {},
   "outputs": [
    {
     "data": {
      "text/plain": [
       "0.8629173989455184"
      ]
     },
     "execution_count": 140,
     "metadata": {},
     "output_type": "execute_result"
    }
   ],
   "source": [
    "accuracy_score(y_train,model.predict(X_train))"
   ]
  },
  {
   "cell_type": "code",
   "execution_count": 141,
   "id": "a4ab858b",
   "metadata": {},
   "outputs": [
    {
     "data": {
      "text/plain": [
       "0.8041958041958042"
      ]
     },
     "execution_count": 141,
     "metadata": {},
     "output_type": "execute_result"
    }
   ],
   "source": [
    "accuracy_score(y_val,model.predict(X_val))"
   ]
  },
  {
   "cell_type": "markdown",
   "id": "9d51d126",
   "metadata": {},
   "source": [
    "<b>In this data set, only 38% of passengers survived, therefore using a basic model that predicts each passenger as dead, we achieve a higher than 50% accuracy, hence it's preferable to use recall score when evaluating models.</b>"
   ]
  },
  {
   "cell_type": "code",
   "execution_count": 142,
   "id": "584630e3",
   "metadata": {},
   "outputs": [
    {
     "data": {
      "text/plain": [
       "0.8185840707964602"
      ]
     },
     "execution_count": 142,
     "metadata": {},
     "output_type": "execute_result"
    }
   ],
   "source": [
    "recall_score(y_train,model.predict(X_train))"
   ]
  },
  {
   "cell_type": "code",
   "execution_count": 143,
   "id": "a88c065a",
   "metadata": {},
   "outputs": [
    {
     "data": {
      "text/plain": [
       "0.7592592592592593"
      ]
     },
     "execution_count": 143,
     "metadata": {},
     "output_type": "execute_result"
    }
   ],
   "source": [
    "recall_score(y_val,model.predict(X_val))"
   ]
  },
  {
   "cell_type": "markdown",
   "id": "72e935bc",
   "metadata": {},
   "source": [
    "<b>now,we try neural networks to see how far we can get</b>"
   ]
  },
  {
   "cell_type": "code",
   "execution_count": 68,
   "id": "72a984d3",
   "metadata": {},
   "outputs": [],
   "source": [
    "modelNN = keras.Sequential(\n",
    "    [\n",
    "        keras.Input(shape=(9,)),\n",
    "        layers.Dense(units=32,activation=\"relu\",kernel_regularizer=keras.regularizers.L2()),\n",
    "        layers.Dense(units=32,activation=\"relu\",kernel_regularizer=keras.regularizers.L2()),\n",
    "        layers.Dense(units=1,activation=\"sigmoid\"),\n",
    "    ]\n",
    ")"
   ]
  },
  {
   "cell_type": "code",
   "execution_count": 146,
   "id": "59aa0320",
   "metadata": {},
   "outputs": [
    {
     "name": "stdout",
     "output_type": "stream",
     "text": [
      "Epoch 1/256\n",
      "1/1 [==============================] - 1s 1s/step - loss: 0.5328 - accuracy: 0.8155 - recall: 0.6637 - val_loss: 0.4655 - val_accuracy: 0.8601 - val_recall: 0.7407\n",
      "Epoch 2/256\n",
      "1/1 [==============================] - 0s 63ms/step - loss: 0.5353 - accuracy: 0.8137 - recall: 0.7035 - val_loss: 0.4553 - val_accuracy: 0.8741 - val_recall: 0.7407\n",
      "Epoch 3/256\n",
      "1/1 [==============================] - 0s 63ms/step - loss: 0.5300 - accuracy: 0.8207 - recall: 0.6858 - val_loss: 0.4468 - val_accuracy: 0.8811 - val_recall: 0.7407\n",
      "Epoch 4/256\n",
      "1/1 [==============================] - 0s 71ms/step - loss: 0.5287 - accuracy: 0.8207 - recall: 0.6770 - val_loss: 0.4441 - val_accuracy: 0.8811 - val_recall: 0.7407\n",
      "Epoch 5/256\n",
      "1/1 [==============================] - 0s 41ms/step - loss: 0.5292 - accuracy: 0.8225 - recall: 0.6814 - val_loss: 0.4446 - val_accuracy: 0.8811 - val_recall: 0.7407\n",
      "Epoch 6/256\n",
      "1/1 [==============================] - 0s 45ms/step - loss: 0.5275 - accuracy: 0.8190 - recall: 0.6814 - val_loss: 0.4474 - val_accuracy: 0.8741 - val_recall: 0.7407\n",
      "Epoch 7/256\n",
      "1/1 [==============================] - 0s 39ms/step - loss: 0.5251 - accuracy: 0.8225 - recall: 0.6903 - val_loss: 0.4520 - val_accuracy: 0.8531 - val_recall: 0.7407\n",
      "Epoch 8/256\n",
      "1/1 [==============================] - 0s 44ms/step - loss: 0.5240 - accuracy: 0.8243 - recall: 0.6947 - val_loss: 0.4557 - val_accuracy: 0.8462 - val_recall: 0.7407\n",
      "Epoch 9/256\n",
      "1/1 [==============================] - 0s 52ms/step - loss: 0.5240 - accuracy: 0.8260 - recall: 0.6991 - val_loss: 0.4558 - val_accuracy: 0.8462 - val_recall: 0.7407\n",
      "Epoch 10/256\n",
      "1/1 [==============================] - 0s 49ms/step - loss: 0.5231 - accuracy: 0.8260 - recall: 0.6991 - val_loss: 0.4526 - val_accuracy: 0.8462 - val_recall: 0.7407\n",
      "Epoch 11/256\n",
      "1/1 [==============================] - 0s 47ms/step - loss: 0.5214 - accuracy: 0.8243 - recall: 0.6947 - val_loss: 0.4484 - val_accuracy: 0.8531 - val_recall: 0.7407\n",
      "Epoch 12/256\n",
      "1/1 [==============================] - 0s 47ms/step - loss: 0.5201 - accuracy: 0.8243 - recall: 0.6947 - val_loss: 0.4452 - val_accuracy: 0.8531 - val_recall: 0.7407\n",
      "Epoch 13/256\n",
      "1/1 [==============================] - 0s 67ms/step - loss: 0.5195 - accuracy: 0.8243 - recall: 0.6947 - val_loss: 0.4436 - val_accuracy: 0.8531 - val_recall: 0.7407\n",
      "Epoch 14/256\n",
      "1/1 [==============================] - 0s 35ms/step - loss: 0.5190 - accuracy: 0.8243 - recall: 0.6947 - val_loss: 0.4436 - val_accuracy: 0.8531 - val_recall: 0.7407\n",
      "Epoch 15/256\n",
      "1/1 [==============================] - 0s 56ms/step - loss: 0.5179 - accuracy: 0.8243 - recall: 0.6947 - val_loss: 0.4448 - val_accuracy: 0.8531 - val_recall: 0.7407\n",
      "Epoch 16/256\n",
      "1/1 [==============================] - 0s 45ms/step - loss: 0.5166 - accuracy: 0.8243 - recall: 0.6947 - val_loss: 0.4469 - val_accuracy: 0.8462 - val_recall: 0.7407\n",
      "Epoch 17/256\n",
      "1/1 [==============================] - 0s 39ms/step - loss: 0.5157 - accuracy: 0.8243 - recall: 0.6947 - val_loss: 0.4487 - val_accuracy: 0.8462 - val_recall: 0.7407\n",
      "Epoch 18/256\n",
      "1/1 [==============================] - 0s 50ms/step - loss: 0.5151 - accuracy: 0.8260 - recall: 0.7035 - val_loss: 0.4489 - val_accuracy: 0.8462 - val_recall: 0.7407\n",
      "Epoch 19/256\n",
      "1/1 [==============================] - 0s 45ms/step - loss: 0.5144 - accuracy: 0.8260 - recall: 0.7035 - val_loss: 0.4469 - val_accuracy: 0.8462 - val_recall: 0.7407\n",
      "Epoch 20/256\n",
      "1/1 [==============================] - 0s 56ms/step - loss: 0.5133 - accuracy: 0.8243 - recall: 0.6991 - val_loss: 0.4438 - val_accuracy: 0.8462 - val_recall: 0.7407\n",
      "Epoch 21/256\n",
      "1/1 [==============================] - 0s 52ms/step - loss: 0.5123 - accuracy: 0.8243 - recall: 0.6947 - val_loss: 0.4411 - val_accuracy: 0.8531 - val_recall: 0.7407\n",
      "Epoch 22/256\n",
      "1/1 [==============================] - 0s 44ms/step - loss: 0.5116 - accuracy: 0.8243 - recall: 0.6947 - val_loss: 0.4396 - val_accuracy: 0.8531 - val_recall: 0.7407\n",
      "Epoch 23/256\n",
      "1/1 [==============================] - 0s 44ms/step - loss: 0.5111 - accuracy: 0.8243 - recall: 0.6947 - val_loss: 0.4394 - val_accuracy: 0.8531 - val_recall: 0.7407\n",
      "Epoch 24/256\n",
      "1/1 [==============================] - 0s 55ms/step - loss: 0.5102 - accuracy: 0.8243 - recall: 0.6947 - val_loss: 0.4402 - val_accuracy: 0.8462 - val_recall: 0.7407\n",
      "Epoch 25/256\n",
      "1/1 [==============================] - 0s 46ms/step - loss: 0.5093 - accuracy: 0.8243 - recall: 0.6947 - val_loss: 0.4414 - val_accuracy: 0.8462 - val_recall: 0.7407\n",
      "Epoch 26/256\n",
      "1/1 [==============================] - 0s 53ms/step - loss: 0.5085 - accuracy: 0.8225 - recall: 0.6947 - val_loss: 0.4425 - val_accuracy: 0.8462 - val_recall: 0.7407\n",
      "Epoch 27/256\n",
      "1/1 [==============================] - 0s 54ms/step - loss: 0.5078 - accuracy: 0.8278 - recall: 0.7080 - val_loss: 0.4425 - val_accuracy: 0.8462 - val_recall: 0.7407\n",
      "Epoch 28/256\n",
      "1/1 [==============================] - 0s 48ms/step - loss: 0.5071 - accuracy: 0.8278 - recall: 0.7080 - val_loss: 0.4408 - val_accuracy: 0.8462 - val_recall: 0.7407\n",
      "Epoch 29/256\n",
      "1/1 [==============================] - 0s 53ms/step - loss: 0.5062 - accuracy: 0.8278 - recall: 0.7080 - val_loss: 0.4381 - val_accuracy: 0.8462 - val_recall: 0.7407\n",
      "Epoch 30/256\n",
      "1/1 [==============================] - 0s 50ms/step - loss: 0.5054 - accuracy: 0.8260 - recall: 0.7035 - val_loss: 0.4359 - val_accuracy: 0.8531 - val_recall: 0.7407\n",
      "Epoch 31/256\n",
      "1/1 [==============================] - 0s 50ms/step - loss: 0.5047 - accuracy: 0.8260 - recall: 0.7035 - val_loss: 0.4352 - val_accuracy: 0.8531 - val_recall: 0.7407\n",
      "Epoch 32/256\n",
      "1/1 [==============================] - 0s 46ms/step - loss: 0.5041 - accuracy: 0.8260 - recall: 0.7035 - val_loss: 0.4356 - val_accuracy: 0.8462 - val_recall: 0.7407\n",
      "Epoch 33/256\n",
      "1/1 [==============================] - 0s 55ms/step - loss: 0.5033 - accuracy: 0.8260 - recall: 0.7035 - val_loss: 0.4361 - val_accuracy: 0.8462 - val_recall: 0.7407\n",
      "Epoch 34/256\n",
      "1/1 [==============================] - 0s 44ms/step - loss: 0.5026 - accuracy: 0.8278 - recall: 0.7080 - val_loss: 0.4365 - val_accuracy: 0.8462 - val_recall: 0.7407\n",
      "Epoch 35/256\n",
      "1/1 [==============================] - 0s 39ms/step - loss: 0.5021 - accuracy: 0.8278 - recall: 0.7080 - val_loss: 0.4360 - val_accuracy: 0.8462 - val_recall: 0.7407\n",
      "Epoch 36/256\n",
      "1/1 [==============================] - 0s 52ms/step - loss: 0.5015 - accuracy: 0.8278 - recall: 0.7080 - val_loss: 0.4347 - val_accuracy: 0.8462 - val_recall: 0.7407\n",
      "Epoch 37/256\n",
      "1/1 [==============================] - 0s 50ms/step - loss: 0.5008 - accuracy: 0.8278 - recall: 0.7080 - val_loss: 0.4333 - val_accuracy: 0.8462 - val_recall: 0.7407\n",
      "Epoch 38/256\n",
      "1/1 [==============================] - 0s 37ms/step - loss: 0.5001 - accuracy: 0.8260 - recall: 0.7035 - val_loss: 0.4322 - val_accuracy: 0.8462 - val_recall: 0.7407\n",
      "Epoch 39/256\n",
      "1/1 [==============================] - 0s 57ms/step - loss: 0.4995 - accuracy: 0.8260 - recall: 0.7035 - val_loss: 0.4318 - val_accuracy: 0.8462 - val_recall: 0.7407\n",
      "Epoch 40/256\n",
      "1/1 [==============================] - 0s 69ms/step - loss: 0.4989 - accuracy: 0.8260 - recall: 0.7035 - val_loss: 0.4319 - val_accuracy: 0.8462 - val_recall: 0.7407\n",
      "Epoch 41/256\n",
      "1/1 [==============================] - 0s 50ms/step - loss: 0.4983 - accuracy: 0.8260 - recall: 0.7035 - val_loss: 0.4322 - val_accuracy: 0.8392 - val_recall: 0.7222\n",
      "Epoch 42/256\n",
      "1/1 [==============================] - 0s 37ms/step - loss: 0.4977 - accuracy: 0.8260 - recall: 0.7035 - val_loss: 0.4323 - val_accuracy: 0.8392 - val_recall: 0.7222\n",
      "Epoch 43/256\n",
      "1/1 [==============================] - 0s 47ms/step - loss: 0.4971 - accuracy: 0.8260 - recall: 0.7035 - val_loss: 0.4317 - val_accuracy: 0.8392 - val_recall: 0.7222\n",
      "Epoch 44/256\n",
      "1/1 [==============================] - 0s 47ms/step - loss: 0.4965 - accuracy: 0.8260 - recall: 0.7035 - val_loss: 0.4308 - val_accuracy: 0.8392 - val_recall: 0.7222\n",
      "Epoch 45/256\n",
      "1/1 [==============================] - 0s 49ms/step - loss: 0.4959 - accuracy: 0.8260 - recall: 0.7035 - val_loss: 0.4299 - val_accuracy: 0.8392 - val_recall: 0.7222\n",
      "Epoch 46/256\n",
      "1/1 [==============================] - 0s 34ms/step - loss: 0.4954 - accuracy: 0.8260 - recall: 0.7035 - val_loss: 0.4293 - val_accuracy: 0.8392 - val_recall: 0.7222\n"
     ]
    },
    {
     "name": "stdout",
     "output_type": "stream",
     "text": [
      "Epoch 47/256\n",
      "1/1 [==============================] - 0s 65ms/step - loss: 0.4949 - accuracy: 0.8260 - recall: 0.7035 - val_loss: 0.4291 - val_accuracy: 0.8392 - val_recall: 0.7222\n",
      "Epoch 48/256\n",
      "1/1 [==============================] - 0s 38ms/step - loss: 0.4943 - accuracy: 0.8260 - recall: 0.7035 - val_loss: 0.4290 - val_accuracy: 0.8392 - val_recall: 0.7222\n",
      "Epoch 49/256\n",
      "1/1 [==============================] - 0s 43ms/step - loss: 0.4938 - accuracy: 0.8260 - recall: 0.7035 - val_loss: 0.4288 - val_accuracy: 0.8392 - val_recall: 0.7222\n",
      "Epoch 50/256\n",
      "1/1 [==============================] - 0s 33ms/step - loss: 0.4933 - accuracy: 0.8260 - recall: 0.7035 - val_loss: 0.4281 - val_accuracy: 0.8392 - val_recall: 0.7222\n",
      "Epoch 51/256\n",
      "1/1 [==============================] - 0s 38ms/step - loss: 0.4928 - accuracy: 0.8278 - recall: 0.7080 - val_loss: 0.4272 - val_accuracy: 0.8392 - val_recall: 0.7222\n",
      "Epoch 52/256\n",
      "1/1 [==============================] - 0s 51ms/step - loss: 0.4923 - accuracy: 0.8278 - recall: 0.7080 - val_loss: 0.4263 - val_accuracy: 0.8392 - val_recall: 0.7222\n",
      "Epoch 53/256\n",
      "1/1 [==============================] - 0s 48ms/step - loss: 0.4918 - accuracy: 0.8278 - recall: 0.7080 - val_loss: 0.4258 - val_accuracy: 0.8392 - val_recall: 0.7222\n",
      "Epoch 54/256\n",
      "1/1 [==============================] - 0s 59ms/step - loss: 0.4913 - accuracy: 0.8278 - recall: 0.7080 - val_loss: 0.4257 - val_accuracy: 0.8392 - val_recall: 0.7222\n",
      "Epoch 55/256\n",
      "1/1 [==============================] - 0s 51ms/step - loss: 0.4907 - accuracy: 0.8260 - recall: 0.7080 - val_loss: 0.4259 - val_accuracy: 0.8392 - val_recall: 0.7222\n",
      "Epoch 56/256\n",
      "1/1 [==============================] - 0s 54ms/step - loss: 0.4901 - accuracy: 0.8260 - recall: 0.7080 - val_loss: 0.4260 - val_accuracy: 0.8392 - val_recall: 0.7222\n",
      "Epoch 57/256\n",
      "1/1 [==============================] - 0s 55ms/step - loss: 0.4896 - accuracy: 0.8278 - recall: 0.7124 - val_loss: 0.4259 - val_accuracy: 0.8462 - val_recall: 0.7222\n",
      "Epoch 58/256\n",
      "1/1 [==============================] - 0s 59ms/step - loss: 0.4890 - accuracy: 0.8278 - recall: 0.7124 - val_loss: 0.4250 - val_accuracy: 0.8462 - val_recall: 0.7222\n",
      "Epoch 59/256\n",
      "1/1 [==============================] - 0s 57ms/step - loss: 0.4886 - accuracy: 0.8278 - recall: 0.7124 - val_loss: 0.4239 - val_accuracy: 0.8462 - val_recall: 0.7222\n",
      "Epoch 60/256\n",
      "1/1 [==============================] - 0s 45ms/step - loss: 0.4881 - accuracy: 0.8260 - recall: 0.7080 - val_loss: 0.4232 - val_accuracy: 0.8462 - val_recall: 0.7222\n",
      "Epoch 61/256\n",
      "1/1 [==============================] - 0s 46ms/step - loss: 0.4877 - accuracy: 0.8260 - recall: 0.7080 - val_loss: 0.4231 - val_accuracy: 0.8462 - val_recall: 0.7222\n",
      "Epoch 62/256\n",
      "1/1 [==============================] - 0s 45ms/step - loss: 0.4872 - accuracy: 0.8260 - recall: 0.7080 - val_loss: 0.4233 - val_accuracy: 0.8462 - val_recall: 0.7222\n",
      "Epoch 63/256\n",
      "1/1 [==============================] - 0s 49ms/step - loss: 0.4868 - accuracy: 0.8313 - recall: 0.7212 - val_loss: 0.4231 - val_accuracy: 0.8462 - val_recall: 0.7222\n",
      "Epoch 64/256\n",
      "1/1 [==============================] - 0s 48ms/step - loss: 0.4863 - accuracy: 0.8313 - recall: 0.7212 - val_loss: 0.4221 - val_accuracy: 0.8462 - val_recall: 0.7222\n",
      "Epoch 65/256\n",
      "1/1 [==============================] - 0s 46ms/step - loss: 0.4859 - accuracy: 0.8295 - recall: 0.7168 - val_loss: 0.4211 - val_accuracy: 0.8462 - val_recall: 0.7222\n",
      "Epoch 66/256\n",
      "1/1 [==============================] - 0s 45ms/step - loss: 0.4855 - accuracy: 0.8295 - recall: 0.7168 - val_loss: 0.4207 - val_accuracy: 0.8462 - val_recall: 0.7222\n",
      "Epoch 67/256\n",
      "1/1 [==============================] - 0s 53ms/step - loss: 0.4851 - accuracy: 0.8295 - recall: 0.7168 - val_loss: 0.4208 - val_accuracy: 0.8462 - val_recall: 0.7222\n",
      "Epoch 68/256\n",
      "1/1 [==============================] - 0s 54ms/step - loss: 0.4847 - accuracy: 0.8313 - recall: 0.7212 - val_loss: 0.4207 - val_accuracy: 0.8462 - val_recall: 0.7222\n",
      "Epoch 69/256\n",
      "1/1 [==============================] - 0s 53ms/step - loss: 0.4843 - accuracy: 0.8313 - recall: 0.7212 - val_loss: 0.4202 - val_accuracy: 0.8462 - val_recall: 0.7222\n",
      "Epoch 70/256\n",
      "1/1 [==============================] - 0s 58ms/step - loss: 0.4839 - accuracy: 0.8313 - recall: 0.7212 - val_loss: 0.4195 - val_accuracy: 0.8462 - val_recall: 0.7222\n",
      "Epoch 71/256\n",
      "1/1 [==============================] - 0s 48ms/step - loss: 0.4835 - accuracy: 0.8295 - recall: 0.7168 - val_loss: 0.4191 - val_accuracy: 0.8462 - val_recall: 0.7222\n",
      "Epoch 72/256\n",
      "1/1 [==============================] - 0s 42ms/step - loss: 0.4831 - accuracy: 0.8295 - recall: 0.7168 - val_loss: 0.4188 - val_accuracy: 0.8462 - val_recall: 0.7222\n",
      "Epoch 73/256\n",
      "1/1 [==============================] - 0s 45ms/step - loss: 0.4827 - accuracy: 0.8313 - recall: 0.7212 - val_loss: 0.4185 - val_accuracy: 0.8462 - val_recall: 0.7222\n",
      "Epoch 74/256\n",
      "1/1 [==============================] - 0s 40ms/step - loss: 0.4823 - accuracy: 0.8313 - recall: 0.7212 - val_loss: 0.4180 - val_accuracy: 0.8531 - val_recall: 0.7407\n",
      "Epoch 75/256\n",
      "1/1 [==============================] - 0s 34ms/step - loss: 0.4820 - accuracy: 0.8313 - recall: 0.7212 - val_loss: 0.4174 - val_accuracy: 0.8531 - val_recall: 0.7407\n",
      "Epoch 76/256\n",
      "1/1 [==============================] - 0s 41ms/step - loss: 0.4816 - accuracy: 0.8330 - recall: 0.7212 - val_loss: 0.4168 - val_accuracy: 0.8531 - val_recall: 0.7407\n",
      "Epoch 77/256\n",
      "1/1 [==============================] - 0s 49ms/step - loss: 0.4812 - accuracy: 0.8330 - recall: 0.7212 - val_loss: 0.4166 - val_accuracy: 0.8601 - val_recall: 0.7407\n",
      "Epoch 78/256\n",
      "1/1 [==============================] - 0s 34ms/step - loss: 0.4809 - accuracy: 0.8330 - recall: 0.7257 - val_loss: 0.4161 - val_accuracy: 0.8601 - val_recall: 0.7407\n",
      "Epoch 79/256\n",
      "1/1 [==============================] - 0s 41ms/step - loss: 0.4805 - accuracy: 0.8330 - recall: 0.7257 - val_loss: 0.4158 - val_accuracy: 0.8601 - val_recall: 0.7407\n",
      "Epoch 80/256\n",
      "1/1 [==============================] - 0s 40ms/step - loss: 0.4801 - accuracy: 0.8330 - recall: 0.7257 - val_loss: 0.4156 - val_accuracy: 0.8601 - val_recall: 0.7407\n",
      "Epoch 81/256\n",
      "1/1 [==============================] - 0s 60ms/step - loss: 0.4798 - accuracy: 0.8330 - recall: 0.7257 - val_loss: 0.4151 - val_accuracy: 0.8601 - val_recall: 0.7407\n",
      "Epoch 82/256\n",
      "1/1 [==============================] - 0s 53ms/step - loss: 0.4794 - accuracy: 0.8348 - recall: 0.7257 - val_loss: 0.4146 - val_accuracy: 0.8601 - val_recall: 0.7407\n",
      "Epoch 83/256\n",
      "1/1 [==============================] - 0s 58ms/step - loss: 0.4790 - accuracy: 0.8348 - recall: 0.7257 - val_loss: 0.4146 - val_accuracy: 0.8601 - val_recall: 0.7407\n",
      "Epoch 84/256\n",
      "1/1 [==============================] - 0s 58ms/step - loss: 0.4786 - accuracy: 0.8330 - recall: 0.7257 - val_loss: 0.4142 - val_accuracy: 0.8601 - val_recall: 0.7407\n",
      "Epoch 85/256\n",
      "1/1 [==============================] - 0s 53ms/step - loss: 0.4782 - accuracy: 0.8313 - recall: 0.7257 - val_loss: 0.4137 - val_accuracy: 0.8601 - val_recall: 0.7407\n",
      "Epoch 86/256\n",
      "1/1 [==============================] - 0s 52ms/step - loss: 0.4779 - accuracy: 0.8330 - recall: 0.7257 - val_loss: 0.4135 - val_accuracy: 0.8601 - val_recall: 0.7407\n",
      "Epoch 87/256\n",
      "1/1 [==============================] - 0s 53ms/step - loss: 0.4775 - accuracy: 0.8330 - recall: 0.7257 - val_loss: 0.4133 - val_accuracy: 0.8601 - val_recall: 0.7407\n",
      "Epoch 88/256\n",
      "1/1 [==============================] - 0s 46ms/step - loss: 0.4772 - accuracy: 0.8313 - recall: 0.7257 - val_loss: 0.4129 - val_accuracy: 0.8601 - val_recall: 0.7407\n",
      "Epoch 89/256\n",
      "1/1 [==============================] - 0s 43ms/step - loss: 0.4768 - accuracy: 0.8313 - recall: 0.7257 - val_loss: 0.4125 - val_accuracy: 0.8601 - val_recall: 0.7407\n",
      "Epoch 90/256\n",
      "1/1 [==============================] - 0s 55ms/step - loss: 0.4764 - accuracy: 0.8348 - recall: 0.7257 - val_loss: 0.4123 - val_accuracy: 0.8601 - val_recall: 0.7407\n",
      "Epoch 91/256\n",
      "1/1 [==============================] - 0s 53ms/step - loss: 0.4761 - accuracy: 0.8330 - recall: 0.7257 - val_loss: 0.4120 - val_accuracy: 0.8601 - val_recall: 0.7407\n",
      "Epoch 92/256\n",
      "1/1 [==============================] - 0s 59ms/step - loss: 0.4757 - accuracy: 0.8330 - recall: 0.7257 - val_loss: 0.4116 - val_accuracy: 0.8601 - val_recall: 0.7407\n"
     ]
    },
    {
     "name": "stdout",
     "output_type": "stream",
     "text": [
      "Epoch 93/256\n",
      "1/1 [==============================] - 0s 64ms/step - loss: 0.4754 - accuracy: 0.8330 - recall: 0.7257 - val_loss: 0.4113 - val_accuracy: 0.8601 - val_recall: 0.7407\n",
      "Epoch 94/256\n",
      "1/1 [==============================] - 0s 60ms/step - loss: 0.4750 - accuracy: 0.8330 - recall: 0.7257 - val_loss: 0.4110 - val_accuracy: 0.8601 - val_recall: 0.7407\n",
      "Epoch 95/256\n",
      "1/1 [==============================] - 0s 60ms/step - loss: 0.4747 - accuracy: 0.8348 - recall: 0.7301 - val_loss: 0.4106 - val_accuracy: 0.8601 - val_recall: 0.7407\n",
      "Epoch 96/256\n",
      "1/1 [==============================] - 0s 53ms/step - loss: 0.4743 - accuracy: 0.8348 - recall: 0.7301 - val_loss: 0.4105 - val_accuracy: 0.8601 - val_recall: 0.7407\n",
      "Epoch 97/256\n",
      "1/1 [==============================] - 0s 45ms/step - loss: 0.4740 - accuracy: 0.8348 - recall: 0.7301 - val_loss: 0.4105 - val_accuracy: 0.8601 - val_recall: 0.7407\n",
      "Epoch 98/256\n",
      "1/1 [==============================] - 0s 39ms/step - loss: 0.4736 - accuracy: 0.8348 - recall: 0.7301 - val_loss: 0.4101 - val_accuracy: 0.8601 - val_recall: 0.7407\n",
      "Epoch 99/256\n",
      "1/1 [==============================] - 0s 45ms/step - loss: 0.4733 - accuracy: 0.8348 - recall: 0.7301 - val_loss: 0.4094 - val_accuracy: 0.8601 - val_recall: 0.7407\n",
      "Epoch 100/256\n",
      "1/1 [==============================] - 0s 38ms/step - loss: 0.4730 - accuracy: 0.8348 - recall: 0.7301 - val_loss: 0.4094 - val_accuracy: 0.8601 - val_recall: 0.7407\n",
      "Epoch 101/256\n",
      "1/1 [==============================] - 0s 43ms/step - loss: 0.4726 - accuracy: 0.8348 - recall: 0.7301 - val_loss: 0.4094 - val_accuracy: 0.8601 - val_recall: 0.7407\n",
      "Epoch 102/256\n",
      "1/1 [==============================] - 0s 45ms/step - loss: 0.4723 - accuracy: 0.8330 - recall: 0.7301 - val_loss: 0.4090 - val_accuracy: 0.8601 - val_recall: 0.7407\n",
      "Epoch 103/256\n",
      "1/1 [==============================] - 0s 54ms/step - loss: 0.4720 - accuracy: 0.8330 - recall: 0.7301 - val_loss: 0.4089 - val_accuracy: 0.8601 - val_recall: 0.7407\n",
      "Epoch 104/256\n",
      "1/1 [==============================] - 0s 58ms/step - loss: 0.4717 - accuracy: 0.8348 - recall: 0.7301 - val_loss: 0.4090 - val_accuracy: 0.8601 - val_recall: 0.7407\n",
      "Epoch 105/256\n",
      "1/1 [==============================] - 0s 65ms/step - loss: 0.4714 - accuracy: 0.8348 - recall: 0.7301 - val_loss: 0.4088 - val_accuracy: 0.8601 - val_recall: 0.7407\n",
      "Epoch 106/256\n",
      "1/1 [==============================] - 0s 67ms/step - loss: 0.4711 - accuracy: 0.8348 - recall: 0.7301 - val_loss: 0.4086 - val_accuracy: 0.8601 - val_recall: 0.7407\n",
      "Epoch 107/256\n",
      "1/1 [==============================] - 0s 37ms/step - loss: 0.4707 - accuracy: 0.8348 - recall: 0.7301 - val_loss: 0.4085 - val_accuracy: 0.8601 - val_recall: 0.7407\n",
      "Epoch 108/256\n",
      "1/1 [==============================] - 0s 44ms/step - loss: 0.4704 - accuracy: 0.8330 - recall: 0.7301 - val_loss: 0.4084 - val_accuracy: 0.8601 - val_recall: 0.7407\n",
      "Epoch 109/256\n",
      "1/1 [==============================] - 0s 41ms/step - loss: 0.4701 - accuracy: 0.8330 - recall: 0.7301 - val_loss: 0.4081 - val_accuracy: 0.8601 - val_recall: 0.7407\n",
      "Epoch 110/256\n",
      "1/1 [==============================] - 0s 45ms/step - loss: 0.4698 - accuracy: 0.8330 - recall: 0.7301 - val_loss: 0.4077 - val_accuracy: 0.8601 - val_recall: 0.7407\n",
      "Epoch 111/256\n",
      "1/1 [==============================] - 0s 46ms/step - loss: 0.4695 - accuracy: 0.8348 - recall: 0.7301 - val_loss: 0.4078 - val_accuracy: 0.8601 - val_recall: 0.7407\n",
      "Epoch 112/256\n",
      "1/1 [==============================] - 0s 58ms/step - loss: 0.4692 - accuracy: 0.8330 - recall: 0.7301 - val_loss: 0.4078 - val_accuracy: 0.8601 - val_recall: 0.7407\n",
      "Epoch 113/256\n",
      "1/1 [==============================] - 0s 64ms/step - loss: 0.4690 - accuracy: 0.8330 - recall: 0.7301 - val_loss: 0.4076 - val_accuracy: 0.8601 - val_recall: 0.7407\n",
      "Epoch 114/256\n",
      "1/1 [==============================] - 0s 53ms/step - loss: 0.4686 - accuracy: 0.8348 - recall: 0.7301 - val_loss: 0.4076 - val_accuracy: 0.8601 - val_recall: 0.7407\n",
      "Epoch 115/256\n",
      "1/1 [==============================] - 0s 50ms/step - loss: 0.4684 - accuracy: 0.8348 - recall: 0.7257 - val_loss: 0.4078 - val_accuracy: 0.8601 - val_recall: 0.7407\n",
      "Epoch 116/256\n",
      "1/1 [==============================] - 0s 45ms/step - loss: 0.4681 - accuracy: 0.8348 - recall: 0.7257 - val_loss: 0.4076 - val_accuracy: 0.8601 - val_recall: 0.7407\n",
      "Epoch 117/256\n",
      "1/1 [==============================] - 0s 45ms/step - loss: 0.4678 - accuracy: 0.8330 - recall: 0.7257 - val_loss: 0.4075 - val_accuracy: 0.8601 - val_recall: 0.7407\n",
      "Epoch 118/256\n",
      "1/1 [==============================] - 0s 42ms/step - loss: 0.4675 - accuracy: 0.8330 - recall: 0.7257 - val_loss: 0.4075 - val_accuracy: 0.8601 - val_recall: 0.7407\n",
      "Epoch 119/256\n",
      "1/1 [==============================] - 0s 42ms/step - loss: 0.4672 - accuracy: 0.8330 - recall: 0.7257 - val_loss: 0.4073 - val_accuracy: 0.8601 - val_recall: 0.7407\n",
      "Epoch 120/256\n",
      "1/1 [==============================] - 0s 34ms/step - loss: 0.4669 - accuracy: 0.8330 - recall: 0.7257 - val_loss: 0.4072 - val_accuracy: 0.8601 - val_recall: 0.7407\n",
      "Epoch 121/256\n",
      "1/1 [==============================] - 0s 42ms/step - loss: 0.4667 - accuracy: 0.8330 - recall: 0.7257 - val_loss: 0.4072 - val_accuracy: 0.8601 - val_recall: 0.7407\n",
      "Epoch 122/256\n",
      "1/1 [==============================] - 0s 32ms/step - loss: 0.4664 - accuracy: 0.8330 - recall: 0.7257 - val_loss: 0.4070 - val_accuracy: 0.8601 - val_recall: 0.7407\n",
      "Epoch 123/256\n",
      "1/1 [==============================] - 0s 41ms/step - loss: 0.4661 - accuracy: 0.8330 - recall: 0.7257 - val_loss: 0.4069 - val_accuracy: 0.8601 - val_recall: 0.7407\n",
      "Epoch 124/256\n",
      "1/1 [==============================] - 0s 66ms/step - loss: 0.4658 - accuracy: 0.8348 - recall: 0.7257 - val_loss: 0.4068 - val_accuracy: 0.8601 - val_recall: 0.7407\n",
      "Epoch 125/256\n",
      "1/1 [==============================] - 0s 57ms/step - loss: 0.4656 - accuracy: 0.8366 - recall: 0.7301 - val_loss: 0.4065 - val_accuracy: 0.8601 - val_recall: 0.7407\n",
      "Epoch 126/256\n",
      "1/1 [==============================] - 0s 52ms/step - loss: 0.4653 - accuracy: 0.8366 - recall: 0.7301 - val_loss: 0.4066 - val_accuracy: 0.8601 - val_recall: 0.7407\n",
      "Epoch 127/256\n",
      "1/1 [==============================] - 0s 51ms/step - loss: 0.4651 - accuracy: 0.8366 - recall: 0.7301 - val_loss: 0.4064 - val_accuracy: 0.8601 - val_recall: 0.7407\n",
      "Epoch 128/256\n",
      "1/1 [==============================] - 0s 41ms/step - loss: 0.4648 - accuracy: 0.8348 - recall: 0.7257 - val_loss: 0.4060 - val_accuracy: 0.8601 - val_recall: 0.7407\n",
      "Epoch 129/256\n",
      "1/1 [==============================] - 0s 43ms/step - loss: 0.4645 - accuracy: 0.8348 - recall: 0.7257 - val_loss: 0.4059 - val_accuracy: 0.8601 - val_recall: 0.7407\n",
      "Epoch 130/256\n",
      "1/1 [==============================] - 0s 41ms/step - loss: 0.4643 - accuracy: 0.8348 - recall: 0.7257 - val_loss: 0.4058 - val_accuracy: 0.8601 - val_recall: 0.7407\n",
      "Epoch 131/256\n",
      "1/1 [==============================] - 0s 51ms/step - loss: 0.4640 - accuracy: 0.8348 - recall: 0.7257 - val_loss: 0.4054 - val_accuracy: 0.8601 - val_recall: 0.7407\n",
      "Epoch 132/256\n",
      "1/1 [==============================] - 0s 53ms/step - loss: 0.4638 - accuracy: 0.8348 - recall: 0.7257 - val_loss: 0.4051 - val_accuracy: 0.8601 - val_recall: 0.7407\n",
      "Epoch 133/256\n",
      "1/1 [==============================] - 0s 50ms/step - loss: 0.4635 - accuracy: 0.8348 - recall: 0.7257 - val_loss: 0.4051 - val_accuracy: 0.8601 - val_recall: 0.7407\n",
      "Epoch 134/256\n",
      "1/1 [==============================] - 0s 64ms/step - loss: 0.4633 - accuracy: 0.8348 - recall: 0.7257 - val_loss: 0.4047 - val_accuracy: 0.8601 - val_recall: 0.7407\n",
      "Epoch 135/256\n",
      "1/1 [==============================] - 0s 60ms/step - loss: 0.4631 - accuracy: 0.8348 - recall: 0.7257 - val_loss: 0.4043 - val_accuracy: 0.8601 - val_recall: 0.7407\n",
      "Epoch 136/256\n",
      "1/1 [==============================] - 0s 51ms/step - loss: 0.4628 - accuracy: 0.8348 - recall: 0.7257 - val_loss: 0.4044 - val_accuracy: 0.8601 - val_recall: 0.7407\n",
      "Epoch 137/256\n",
      "1/1 [==============================] - 0s 49ms/step - loss: 0.4626 - accuracy: 0.8348 - recall: 0.7257 - val_loss: 0.4043 - val_accuracy: 0.8601 - val_recall: 0.7407\n",
      "Epoch 138/256\n"
     ]
    },
    {
     "name": "stdout",
     "output_type": "stream",
     "text": [
      "1/1 [==============================] - 0s 44ms/step - loss: 0.4623 - accuracy: 0.8330 - recall: 0.7257 - val_loss: 0.4038 - val_accuracy: 0.8601 - val_recall: 0.7407\n",
      "Epoch 139/256\n",
      "1/1 [==============================] - 0s 51ms/step - loss: 0.4621 - accuracy: 0.8330 - recall: 0.7257 - val_loss: 0.4036 - val_accuracy: 0.8601 - val_recall: 0.7407\n",
      "Epoch 140/256\n",
      "1/1 [==============================] - 0s 47ms/step - loss: 0.4618 - accuracy: 0.8330 - recall: 0.7257 - val_loss: 0.4037 - val_accuracy: 0.8601 - val_recall: 0.7407\n",
      "Epoch 141/256\n",
      "1/1 [==============================] - 0s 44ms/step - loss: 0.4616 - accuracy: 0.8330 - recall: 0.7257 - val_loss: 0.4031 - val_accuracy: 0.8601 - val_recall: 0.7407\n",
      "Epoch 142/256\n",
      "1/1 [==============================] - 0s 48ms/step - loss: 0.4614 - accuracy: 0.8330 - recall: 0.7257 - val_loss: 0.4030 - val_accuracy: 0.8601 - val_recall: 0.7407\n",
      "Epoch 143/256\n",
      "1/1 [==============================] - 0s 43ms/step - loss: 0.4611 - accuracy: 0.8330 - recall: 0.7257 - val_loss: 0.4029 - val_accuracy: 0.8601 - val_recall: 0.7407\n",
      "Epoch 144/256\n",
      "1/1 [==============================] - 0s 49ms/step - loss: 0.4608 - accuracy: 0.8330 - recall: 0.7257 - val_loss: 0.4026 - val_accuracy: 0.8601 - val_recall: 0.7407\n",
      "Epoch 145/256\n",
      "1/1 [==============================] - 0s 48ms/step - loss: 0.4606 - accuracy: 0.8330 - recall: 0.7257 - val_loss: 0.4023 - val_accuracy: 0.8601 - val_recall: 0.7407\n",
      "Epoch 146/256\n",
      "1/1 [==============================] - 0s 50ms/step - loss: 0.4604 - accuracy: 0.8330 - recall: 0.7257 - val_loss: 0.4024 - val_accuracy: 0.8601 - val_recall: 0.7407\n",
      "Epoch 147/256\n",
      "1/1 [==============================] - 0s 54ms/step - loss: 0.4601 - accuracy: 0.8313 - recall: 0.7257 - val_loss: 0.4021 - val_accuracy: 0.8601 - val_recall: 0.7407\n",
      "Epoch 148/256\n",
      "1/1 [==============================] - 0s 52ms/step - loss: 0.4599 - accuracy: 0.8313 - recall: 0.7257 - val_loss: 0.4018 - val_accuracy: 0.8601 - val_recall: 0.7407\n",
      "Epoch 149/256\n",
      "1/1 [==============================] - 0s 55ms/step - loss: 0.4596 - accuracy: 0.8313 - recall: 0.7257 - val_loss: 0.4023 - val_accuracy: 0.8601 - val_recall: 0.7407\n",
      "Epoch 150/256\n",
      "1/1 [==============================] - 0s 50ms/step - loss: 0.4594 - accuracy: 0.8313 - recall: 0.7257 - val_loss: 0.4018 - val_accuracy: 0.8601 - val_recall: 0.7407\n",
      "Epoch 151/256\n",
      "1/1 [==============================] - 0s 52ms/step - loss: 0.4591 - accuracy: 0.8313 - recall: 0.7257 - val_loss: 0.4017 - val_accuracy: 0.8601 - val_recall: 0.7407\n",
      "Epoch 152/256\n",
      "1/1 [==============================] - 0s 46ms/step - loss: 0.4589 - accuracy: 0.8313 - recall: 0.7257 - val_loss: 0.4020 - val_accuracy: 0.8601 - val_recall: 0.7407\n",
      "Epoch 153/256\n",
      "1/1 [==============================] - 0s 36ms/step - loss: 0.4587 - accuracy: 0.8313 - recall: 0.7257 - val_loss: 0.4014 - val_accuracy: 0.8601 - val_recall: 0.7407\n",
      "Epoch 154/256\n",
      "1/1 [==============================] - 0s 49ms/step - loss: 0.4584 - accuracy: 0.8313 - recall: 0.7257 - val_loss: 0.4014 - val_accuracy: 0.8601 - val_recall: 0.7407\n",
      "Epoch 155/256\n",
      "1/1 [==============================] - 0s 46ms/step - loss: 0.4582 - accuracy: 0.8313 - recall: 0.7257 - val_loss: 0.4015 - val_accuracy: 0.8601 - val_recall: 0.7407\n",
      "Epoch 156/256\n",
      "1/1 [==============================] - 0s 54ms/step - loss: 0.4580 - accuracy: 0.8313 - recall: 0.7257 - val_loss: 0.4009 - val_accuracy: 0.8601 - val_recall: 0.7407\n",
      "Epoch 157/256\n",
      "1/1 [==============================] - 0s 53ms/step - loss: 0.4578 - accuracy: 0.8313 - recall: 0.7257 - val_loss: 0.4011 - val_accuracy: 0.8601 - val_recall: 0.7407\n",
      "Epoch 158/256\n",
      "1/1 [==============================] - 0s 49ms/step - loss: 0.4576 - accuracy: 0.8313 - recall: 0.7257 - val_loss: 0.4012 - val_accuracy: 0.8601 - val_recall: 0.7407\n",
      "Epoch 159/256\n",
      "1/1 [==============================] - 0s 51ms/step - loss: 0.4574 - accuracy: 0.8313 - recall: 0.7257 - val_loss: 0.4004 - val_accuracy: 0.8601 - val_recall: 0.7407\n",
      "Epoch 160/256\n",
      "1/1 [==============================] - 0s 48ms/step - loss: 0.4572 - accuracy: 0.8313 - recall: 0.7257 - val_loss: 0.4008 - val_accuracy: 0.8601 - val_recall: 0.7407\n",
      "Epoch 161/256\n",
      "1/1 [==============================] - 0s 47ms/step - loss: 0.4569 - accuracy: 0.8313 - recall: 0.7257 - val_loss: 0.4009 - val_accuracy: 0.8601 - val_recall: 0.7407\n",
      "Epoch 162/256\n",
      "1/1 [==============================] - 0s 47ms/step - loss: 0.4568 - accuracy: 0.8313 - recall: 0.7257 - val_loss: 0.4001 - val_accuracy: 0.8601 - val_recall: 0.7407\n",
      "Epoch 163/256\n",
      "1/1 [==============================] - 0s 50ms/step - loss: 0.4566 - accuracy: 0.8313 - recall: 0.7257 - val_loss: 0.4006 - val_accuracy: 0.8601 - val_recall: 0.7407\n",
      "Epoch 164/256\n",
      "1/1 [==============================] - 0s 47ms/step - loss: 0.4564 - accuracy: 0.8313 - recall: 0.7257 - val_loss: 0.4003 - val_accuracy: 0.8601 - val_recall: 0.7407\n",
      "Epoch 165/256\n",
      "1/1 [==============================] - 0s 43ms/step - loss: 0.4562 - accuracy: 0.8313 - recall: 0.7257 - val_loss: 0.3996 - val_accuracy: 0.8601 - val_recall: 0.7407\n",
      "Epoch 166/256\n",
      "1/1 [==============================] - 0s 44ms/step - loss: 0.4560 - accuracy: 0.8313 - recall: 0.7257 - val_loss: 0.4001 - val_accuracy: 0.8601 - val_recall: 0.7407\n",
      "Epoch 167/256\n",
      "1/1 [==============================] - 0s 50ms/step - loss: 0.4558 - accuracy: 0.8313 - recall: 0.7257 - val_loss: 0.3998 - val_accuracy: 0.8601 - val_recall: 0.7407\n",
      "Epoch 168/256\n",
      "1/1 [==============================] - 0s 42ms/step - loss: 0.4556 - accuracy: 0.8313 - recall: 0.7257 - val_loss: 0.3993 - val_accuracy: 0.8601 - val_recall: 0.7407\n",
      "Epoch 169/256\n",
      "1/1 [==============================] - 0s 41ms/step - loss: 0.4554 - accuracy: 0.8313 - recall: 0.7257 - val_loss: 0.3996 - val_accuracy: 0.8601 - val_recall: 0.7407\n",
      "Epoch 170/256\n",
      "1/1 [==============================] - 0s 50ms/step - loss: 0.4552 - accuracy: 0.8313 - recall: 0.7257 - val_loss: 0.3993 - val_accuracy: 0.8601 - val_recall: 0.7407\n",
      "Epoch 171/256\n",
      "1/1 [==============================] - 0s 46ms/step - loss: 0.4551 - accuracy: 0.8313 - recall: 0.7257 - val_loss: 0.3990 - val_accuracy: 0.8601 - val_recall: 0.7407\n",
      "Epoch 172/256\n",
      "1/1 [==============================] - 0s 41ms/step - loss: 0.4549 - accuracy: 0.8313 - recall: 0.7257 - val_loss: 0.3993 - val_accuracy: 0.8601 - val_recall: 0.7407\n",
      "Epoch 173/256\n",
      "1/1 [==============================] - 0s 63ms/step - loss: 0.4547 - accuracy: 0.8313 - recall: 0.7257 - val_loss: 0.3991 - val_accuracy: 0.8601 - val_recall: 0.7407\n",
      "Epoch 174/256\n",
      "1/1 [==============================] - 0s 56ms/step - loss: 0.4545 - accuracy: 0.8313 - recall: 0.7257 - val_loss: 0.3988 - val_accuracy: 0.8601 - val_recall: 0.7407\n",
      "Epoch 175/256\n",
      "1/1 [==============================] - 0s 58ms/step - loss: 0.4544 - accuracy: 0.8313 - recall: 0.7257 - val_loss: 0.3993 - val_accuracy: 0.8601 - val_recall: 0.7407\n",
      "Epoch 176/256\n",
      "1/1 [==============================] - 0s 51ms/step - loss: 0.4542 - accuracy: 0.8313 - recall: 0.7257 - val_loss: 0.3990 - val_accuracy: 0.8601 - val_recall: 0.7407\n",
      "Epoch 177/256\n",
      "1/1 [==============================] - 0s 71ms/step - loss: 0.4540 - accuracy: 0.8313 - recall: 0.7257 - val_loss: 0.3988 - val_accuracy: 0.8601 - val_recall: 0.7407\n",
      "Epoch 178/256\n",
      "1/1 [==============================] - 0s 50ms/step - loss: 0.4538 - accuracy: 0.8313 - recall: 0.7257 - val_loss: 0.3990 - val_accuracy: 0.8601 - val_recall: 0.7407\n",
      "Epoch 179/256\n",
      "1/1 [==============================] - 0s 45ms/step - loss: 0.4537 - accuracy: 0.8313 - recall: 0.7257 - val_loss: 0.3985 - val_accuracy: 0.8601 - val_recall: 0.7407\n",
      "Epoch 180/256\n",
      "1/1 [==============================] - 0s 45ms/step - loss: 0.4535 - accuracy: 0.8313 - recall: 0.7257 - val_loss: 0.3983 - val_accuracy: 0.8601 - val_recall: 0.7407\n",
      "Epoch 181/256\n",
      "1/1 [==============================] - 0s 40ms/step - loss: 0.4533 - accuracy: 0.8313 - recall: 0.7257 - val_loss: 0.3984 - val_accuracy: 0.8601 - val_recall: 0.7407\n",
      "Epoch 182/256\n",
      "1/1 [==============================] - 0s 42ms/step - loss: 0.4532 - accuracy: 0.8330 - recall: 0.7301 - val_loss: 0.3980 - val_accuracy: 0.8601 - val_recall: 0.7407\n",
      "Epoch 183/256\n"
     ]
    },
    {
     "name": "stdout",
     "output_type": "stream",
     "text": [
      "1/1 [==============================] - 0s 48ms/step - loss: 0.4530 - accuracy: 0.8330 - recall: 0.7301 - val_loss: 0.3980 - val_accuracy: 0.8601 - val_recall: 0.7407\n",
      "Epoch 184/256\n",
      "1/1 [==============================] - 0s 43ms/step - loss: 0.4529 - accuracy: 0.8330 - recall: 0.7301 - val_loss: 0.3978 - val_accuracy: 0.8601 - val_recall: 0.7407\n",
      "Epoch 185/256\n",
      "1/1 [==============================] - 0s 47ms/step - loss: 0.4527 - accuracy: 0.8330 - recall: 0.7301 - val_loss: 0.3975 - val_accuracy: 0.8601 - val_recall: 0.7407\n",
      "Epoch 186/256\n",
      "1/1 [==============================] - 0s 45ms/step - loss: 0.4526 - accuracy: 0.8330 - recall: 0.7301 - val_loss: 0.3978 - val_accuracy: 0.8601 - val_recall: 0.7407\n",
      "Epoch 187/256\n",
      "1/1 [==============================] - 0s 48ms/step - loss: 0.4524 - accuracy: 0.8330 - recall: 0.7301 - val_loss: 0.3975 - val_accuracy: 0.8601 - val_recall: 0.7407\n",
      "Epoch 188/256\n",
      "1/1 [==============================] - 0s 42ms/step - loss: 0.4522 - accuracy: 0.8330 - recall: 0.7301 - val_loss: 0.3977 - val_accuracy: 0.8601 - val_recall: 0.7407\n",
      "Epoch 189/256\n",
      "1/1 [==============================] - 0s 51ms/step - loss: 0.4521 - accuracy: 0.8330 - recall: 0.7301 - val_loss: 0.3977 - val_accuracy: 0.8601 - val_recall: 0.7407\n",
      "Epoch 190/256\n",
      "1/1 [==============================] - 0s 46ms/step - loss: 0.4520 - accuracy: 0.8330 - recall: 0.7301 - val_loss: 0.3977 - val_accuracy: 0.8601 - val_recall: 0.7407\n",
      "Epoch 191/256\n",
      "1/1 [==============================] - 0s 33ms/step - loss: 0.4518 - accuracy: 0.8330 - recall: 0.7301 - val_loss: 0.3979 - val_accuracy: 0.8601 - val_recall: 0.7407\n",
      "Epoch 192/256\n",
      "1/1 [==============================] - 0s 39ms/step - loss: 0.4517 - accuracy: 0.8330 - recall: 0.7301 - val_loss: 0.3976 - val_accuracy: 0.8601 - val_recall: 0.7407\n",
      "Epoch 193/256\n",
      "1/1 [==============================] - 0s 45ms/step - loss: 0.4515 - accuracy: 0.8330 - recall: 0.7301 - val_loss: 0.3974 - val_accuracy: 0.8601 - val_recall: 0.7407\n",
      "Epoch 194/256\n",
      "1/1 [==============================] - 0s 47ms/step - loss: 0.4514 - accuracy: 0.8330 - recall: 0.7301 - val_loss: 0.3974 - val_accuracy: 0.8601 - val_recall: 0.7407\n",
      "Epoch 195/256\n",
      "1/1 [==============================] - 0s 44ms/step - loss: 0.4512 - accuracy: 0.8330 - recall: 0.7301 - val_loss: 0.3969 - val_accuracy: 0.8601 - val_recall: 0.7407\n",
      "Epoch 196/256\n",
      "1/1 [==============================] - 0s 46ms/step - loss: 0.4511 - accuracy: 0.8330 - recall: 0.7301 - val_loss: 0.3971 - val_accuracy: 0.8601 - val_recall: 0.7407\n",
      "Epoch 197/256\n",
      "1/1 [==============================] - 0s 42ms/step - loss: 0.4510 - accuracy: 0.8330 - recall: 0.7301 - val_loss: 0.3969 - val_accuracy: 0.8601 - val_recall: 0.7407\n",
      "Epoch 198/256\n",
      "1/1 [==============================] - 0s 40ms/step - loss: 0.4508 - accuracy: 0.8330 - recall: 0.7301 - val_loss: 0.3969 - val_accuracy: 0.8601 - val_recall: 0.7407\n",
      "Epoch 199/256\n",
      "1/1 [==============================] - 0s 37ms/step - loss: 0.4507 - accuracy: 0.8330 - recall: 0.7301 - val_loss: 0.3970 - val_accuracy: 0.8601 - val_recall: 0.7407\n",
      "Epoch 200/256\n",
      "1/1 [==============================] - 0s 51ms/step - loss: 0.4505 - accuracy: 0.8330 - recall: 0.7301 - val_loss: 0.3966 - val_accuracy: 0.8601 - val_recall: 0.7407\n",
      "Epoch 201/256\n",
      "1/1 [==============================] - 0s 45ms/step - loss: 0.4504 - accuracy: 0.8330 - recall: 0.7301 - val_loss: 0.3968 - val_accuracy: 0.8601 - val_recall: 0.7407\n",
      "Epoch 202/256\n",
      "1/1 [==============================] - 0s 51ms/step - loss: 0.4503 - accuracy: 0.8330 - recall: 0.7301 - val_loss: 0.3962 - val_accuracy: 0.8601 - val_recall: 0.7407\n",
      "Epoch 203/256\n",
      "1/1 [==============================] - 0s 44ms/step - loss: 0.4501 - accuracy: 0.8330 - recall: 0.7301 - val_loss: 0.3965 - val_accuracy: 0.8601 - val_recall: 0.7407\n",
      "Epoch 204/256\n",
      "1/1 [==============================] - 0s 44ms/step - loss: 0.4500 - accuracy: 0.8330 - recall: 0.7301 - val_loss: 0.3963 - val_accuracy: 0.8601 - val_recall: 0.7407\n",
      "Epoch 205/256\n",
      "1/1 [==============================] - 0s 46ms/step - loss: 0.4499 - accuracy: 0.8330 - recall: 0.7301 - val_loss: 0.3961 - val_accuracy: 0.8601 - val_recall: 0.7407\n",
      "Epoch 206/256\n",
      "1/1 [==============================] - 0s 49ms/step - loss: 0.4497 - accuracy: 0.8330 - recall: 0.7301 - val_loss: 0.3964 - val_accuracy: 0.8601 - val_recall: 0.7407\n",
      "Epoch 207/256\n",
      "1/1 [==============================] - 0s 48ms/step - loss: 0.4496 - accuracy: 0.8330 - recall: 0.7301 - val_loss: 0.3958 - val_accuracy: 0.8531 - val_recall: 0.7222\n",
      "Epoch 208/256\n",
      "1/1 [==============================] - 0s 47ms/step - loss: 0.4495 - accuracy: 0.8330 - recall: 0.7301 - val_loss: 0.3964 - val_accuracy: 0.8531 - val_recall: 0.7222\n",
      "Epoch 209/256\n",
      "1/1 [==============================] - 0s 52ms/step - loss: 0.4493 - accuracy: 0.8330 - recall: 0.7301 - val_loss: 0.3962 - val_accuracy: 0.8531 - val_recall: 0.7222\n",
      "Epoch 210/256\n",
      "1/1 [==============================] - 0s 38ms/step - loss: 0.4492 - accuracy: 0.8330 - recall: 0.7301 - val_loss: 0.3961 - val_accuracy: 0.8531 - val_recall: 0.7222\n",
      "Epoch 211/256\n",
      "1/1 [==============================] - 0s 48ms/step - loss: 0.4491 - accuracy: 0.8330 - recall: 0.7301 - val_loss: 0.3963 - val_accuracy: 0.8531 - val_recall: 0.7222\n",
      "Epoch 212/256\n",
      "1/1 [==============================] - 0s 66ms/step - loss: 0.4490 - accuracy: 0.8330 - recall: 0.7301 - val_loss: 0.3958 - val_accuracy: 0.8531 - val_recall: 0.7222\n",
      "Epoch 213/256\n",
      "1/1 [==============================] - 0s 69ms/step - loss: 0.4488 - accuracy: 0.8330 - recall: 0.7301 - val_loss: 0.3962 - val_accuracy: 0.8531 - val_recall: 0.7222\n",
      "Epoch 214/256\n",
      "1/1 [==============================] - 0s 50ms/step - loss: 0.4487 - accuracy: 0.8330 - recall: 0.7301 - val_loss: 0.3956 - val_accuracy: 0.8531 - val_recall: 0.7222\n",
      "Epoch 215/256\n",
      "1/1 [==============================] - 0s 55ms/step - loss: 0.4485 - accuracy: 0.8330 - recall: 0.7301 - val_loss: 0.3957 - val_accuracy: 0.8531 - val_recall: 0.7222\n",
      "Epoch 216/256\n",
      "1/1 [==============================] - 0s 72ms/step - loss: 0.4484 - accuracy: 0.8330 - recall: 0.7301 - val_loss: 0.3954 - val_accuracy: 0.8531 - val_recall: 0.7222\n",
      "Epoch 217/256\n",
      "1/1 [==============================] - 0s 47ms/step - loss: 0.4483 - accuracy: 0.8330 - recall: 0.7301 - val_loss: 0.3954 - val_accuracy: 0.8531 - val_recall: 0.7222\n",
      "Epoch 218/256\n",
      "1/1 [==============================] - 0s 50ms/step - loss: 0.4482 - accuracy: 0.8330 - recall: 0.7301 - val_loss: 0.3954 - val_accuracy: 0.8531 - val_recall: 0.7222\n",
      "Epoch 219/256\n",
      "1/1 [==============================] - 0s 45ms/step - loss: 0.4480 - accuracy: 0.8330 - recall: 0.7301 - val_loss: 0.3952 - val_accuracy: 0.8531 - val_recall: 0.7222\n",
      "Epoch 220/256\n",
      "1/1 [==============================] - 0s 42ms/step - loss: 0.4479 - accuracy: 0.8330 - recall: 0.7301 - val_loss: 0.3955 - val_accuracy: 0.8531 - val_recall: 0.7222\n",
      "Epoch 221/256\n",
      "1/1 [==============================] - 0s 38ms/step - loss: 0.4478 - accuracy: 0.8330 - recall: 0.7301 - val_loss: 0.3952 - val_accuracy: 0.8531 - val_recall: 0.7222\n",
      "Epoch 222/256\n",
      "1/1 [==============================] - 0s 48ms/step - loss: 0.4477 - accuracy: 0.8330 - recall: 0.7301 - val_loss: 0.3954 - val_accuracy: 0.8531 - val_recall: 0.7222\n",
      "Epoch 223/256\n",
      "1/1 [==============================] - 0s 43ms/step - loss: 0.4475 - accuracy: 0.8330 - recall: 0.7301 - val_loss: 0.3951 - val_accuracy: 0.8531 - val_recall: 0.7222\n",
      "Epoch 224/256\n",
      "1/1 [==============================] - 0s 32ms/step - loss: 0.4474 - accuracy: 0.8330 - recall: 0.7301 - val_loss: 0.3950 - val_accuracy: 0.8531 - val_recall: 0.7222\n",
      "Epoch 225/256\n",
      "1/1 [==============================] - 0s 54ms/step - loss: 0.4473 - accuracy: 0.8330 - recall: 0.7301 - val_loss: 0.3949 - val_accuracy: 0.8531 - val_recall: 0.7222\n",
      "Epoch 226/256\n",
      "1/1 [==============================] - 0s 48ms/step - loss: 0.4472 - accuracy: 0.8330 - recall: 0.7301 - val_loss: 0.3950 - val_accuracy: 0.8531 - val_recall: 0.7222\n",
      "Epoch 227/256\n",
      "1/1 [==============================] - 0s 49ms/step - loss: 0.4471 - accuracy: 0.8330 - recall: 0.7301 - val_loss: 0.3948 - val_accuracy: 0.8531 - val_recall: 0.7222\n",
      "Epoch 228/256\n"
     ]
    },
    {
     "name": "stdout",
     "output_type": "stream",
     "text": [
      "1/1 [==============================] - 0s 35ms/step - loss: 0.4469 - accuracy: 0.8330 - recall: 0.7301 - val_loss: 0.3952 - val_accuracy: 0.8531 - val_recall: 0.7222\n",
      "Epoch 229/256\n",
      "1/1 [==============================] - 0s 42ms/step - loss: 0.4468 - accuracy: 0.8330 - recall: 0.7301 - val_loss: 0.3947 - val_accuracy: 0.8531 - val_recall: 0.7222\n",
      "Epoch 230/256\n",
      "1/1 [==============================] - 0s 44ms/step - loss: 0.4467 - accuracy: 0.8330 - recall: 0.7301 - val_loss: 0.3953 - val_accuracy: 0.8531 - val_recall: 0.7222\n",
      "Epoch 231/256\n",
      "1/1 [==============================] - 0s 42ms/step - loss: 0.4466 - accuracy: 0.8330 - recall: 0.7301 - val_loss: 0.3943 - val_accuracy: 0.8531 - val_recall: 0.7222\n",
      "Epoch 232/256\n",
      "1/1 [==============================] - 0s 45ms/step - loss: 0.4465 - accuracy: 0.8330 - recall: 0.7301 - val_loss: 0.3949 - val_accuracy: 0.8531 - val_recall: 0.7222\n",
      "Epoch 233/256\n",
      "1/1 [==============================] - 0s 44ms/step - loss: 0.4464 - accuracy: 0.8330 - recall: 0.7301 - val_loss: 0.3942 - val_accuracy: 0.8531 - val_recall: 0.7222\n",
      "Epoch 234/256\n",
      "1/1 [==============================] - 0s 37ms/step - loss: 0.4463 - accuracy: 0.8330 - recall: 0.7301 - val_loss: 0.3946 - val_accuracy: 0.8531 - val_recall: 0.7222\n",
      "Epoch 235/256\n",
      "1/1 [==============================] - 0s 45ms/step - loss: 0.4461 - accuracy: 0.8330 - recall: 0.7301 - val_loss: 0.3943 - val_accuracy: 0.8531 - val_recall: 0.7222\n",
      "Epoch 236/256\n",
      "1/1 [==============================] - 0s 47ms/step - loss: 0.4460 - accuracy: 0.8330 - recall: 0.7301 - val_loss: 0.3944 - val_accuracy: 0.8531 - val_recall: 0.7222\n",
      "Epoch 237/256\n",
      "1/1 [==============================] - 0s 48ms/step - loss: 0.4459 - accuracy: 0.8330 - recall: 0.7301 - val_loss: 0.3942 - val_accuracy: 0.8531 - val_recall: 0.7222\n",
      "Epoch 238/256\n",
      "1/1 [==============================] - 0s 44ms/step - loss: 0.4458 - accuracy: 0.8330 - recall: 0.7301 - val_loss: 0.3942 - val_accuracy: 0.8531 - val_recall: 0.7222\n",
      "Epoch 239/256\n",
      "1/1 [==============================] - 0s 45ms/step - loss: 0.4457 - accuracy: 0.8330 - recall: 0.7301 - val_loss: 0.3939 - val_accuracy: 0.8531 - val_recall: 0.7222\n",
      "Epoch 240/256\n",
      "1/1 [==============================] - 0s 46ms/step - loss: 0.4456 - accuracy: 0.8330 - recall: 0.7301 - val_loss: 0.3940 - val_accuracy: 0.8531 - val_recall: 0.7222\n",
      "Epoch 241/256\n",
      "1/1 [==============================] - 0s 43ms/step - loss: 0.4455 - accuracy: 0.8330 - recall: 0.7301 - val_loss: 0.3939 - val_accuracy: 0.8531 - val_recall: 0.7222\n",
      "Epoch 242/256\n",
      "1/1 [==============================] - 0s 44ms/step - loss: 0.4454 - accuracy: 0.8348 - recall: 0.7345 - val_loss: 0.3940 - val_accuracy: 0.8531 - val_recall: 0.7222\n",
      "Epoch 243/256\n",
      "1/1 [==============================] - 0s 46ms/step - loss: 0.4453 - accuracy: 0.8348 - recall: 0.7345 - val_loss: 0.3939 - val_accuracy: 0.8531 - val_recall: 0.7222\n",
      "Epoch 244/256\n",
      "1/1 [==============================] - 0s 42ms/step - loss: 0.4451 - accuracy: 0.8348 - recall: 0.7345 - val_loss: 0.3939 - val_accuracy: 0.8531 - val_recall: 0.7222\n",
      "Epoch 245/256\n",
      "1/1 [==============================] - 0s 35ms/step - loss: 0.4450 - accuracy: 0.8348 - recall: 0.7345 - val_loss: 0.3940 - val_accuracy: 0.8531 - val_recall: 0.7222\n",
      "Epoch 246/256\n",
      "1/1 [==============================] - 0s 43ms/step - loss: 0.4449 - accuracy: 0.8348 - recall: 0.7345 - val_loss: 0.3937 - val_accuracy: 0.8531 - val_recall: 0.7222\n",
      "Epoch 247/256\n",
      "1/1 [==============================] - 0s 41ms/step - loss: 0.4448 - accuracy: 0.8348 - recall: 0.7345 - val_loss: 0.3941 - val_accuracy: 0.8531 - val_recall: 0.7222\n",
      "Epoch 248/256\n",
      "1/1 [==============================] - 0s 40ms/step - loss: 0.4447 - accuracy: 0.8348 - recall: 0.7345 - val_loss: 0.3932 - val_accuracy: 0.8531 - val_recall: 0.7222\n",
      "Epoch 249/256\n",
      "1/1 [==============================] - 0s 49ms/step - loss: 0.4446 - accuracy: 0.8348 - recall: 0.7345 - val_loss: 0.3944 - val_accuracy: 0.8531 - val_recall: 0.7222\n",
      "Epoch 250/256\n",
      "1/1 [==============================] - 0s 44ms/step - loss: 0.4445 - accuracy: 0.8348 - recall: 0.7345 - val_loss: 0.3923 - val_accuracy: 0.8601 - val_recall: 0.7222\n",
      "Epoch 251/256\n",
      "1/1 [==============================] - 0s 41ms/step - loss: 0.4445 - accuracy: 0.8348 - recall: 0.7345 - val_loss: 0.3946 - val_accuracy: 0.8531 - val_recall: 0.7222\n",
      "Epoch 252/256\n",
      "1/1 [==============================] - 0s 83ms/step - loss: 0.4444 - accuracy: 0.8348 - recall: 0.7345 - val_loss: 0.3921 - val_accuracy: 0.8601 - val_recall: 0.7222\n",
      "Epoch 253/256\n",
      "1/1 [==============================] - 0s 56ms/step - loss: 0.4443 - accuracy: 0.8348 - recall: 0.7301 - val_loss: 0.3939 - val_accuracy: 0.8531 - val_recall: 0.7222\n",
      "Epoch 254/256\n",
      "1/1 [==============================] - 0s 46ms/step - loss: 0.4441 - accuracy: 0.8348 - recall: 0.7345 - val_loss: 0.3932 - val_accuracy: 0.8531 - val_recall: 0.7222\n",
      "Epoch 255/256\n",
      "1/1 [==============================] - 0s 50ms/step - loss: 0.4440 - accuracy: 0.8348 - recall: 0.7345 - val_loss: 0.3927 - val_accuracy: 0.8531 - val_recall: 0.7222\n",
      "Epoch 256/256\n",
      "1/1 [==============================] - 0s 43ms/step - loss: 0.4439 - accuracy: 0.8348 - recall: 0.7345 - val_loss: 0.3943 - val_accuracy: 0.8531 - val_recall: 0.7222\n"
     ]
    },
    {
     "data": {
      "text/plain": [
       "<keras.callbacks.History at 0x7f0185f7a550>"
      ]
     },
     "execution_count": 146,
     "metadata": {},
     "output_type": "execute_result"
    }
   ],
   "source": [
    "modelNN.compile(loss=\"binary_crossentropy\",optimizer=\"adam\",metrics=[\"accuracy\",\"Recall\"])\n",
    "modelNN.fit(X_train,y_train,batch_size=569,epochs=256,validation_data=(X_val,y_val))"
   ]
  },
  {
   "cell_type": "code",
   "execution_count": 154,
   "id": "ea1a37c3",
   "metadata": {},
   "outputs": [
    {
     "name": "stdout",
     "output_type": "stream",
     "text": [
      "6/6 [==============================] - 0s 2ms/step\n"
     ]
    },
    {
     "data": {
      "text/plain": [
       "0.8324022346368715"
      ]
     },
     "execution_count": 154,
     "metadata": {},
     "output_type": "execute_result"
    }
   ],
   "source": [
    "accuracy_score(y_test,modelNN.predict(X_test)>0.7)"
   ]
  }
 ],
 "metadata": {
  "kernelspec": {
   "display_name": "Python 3 (ipykernel)",
   "language": "python",
   "name": "python3"
  },
  "language_info": {
   "codemirror_mode": {
    "name": "ipython",
    "version": 3
   },
   "file_extension": ".py",
   "mimetype": "text/x-python",
   "name": "python",
   "nbconvert_exporter": "python",
   "pygments_lexer": "ipython3",
   "version": "3.9.12"
  }
 },
 "nbformat": 4,
 "nbformat_minor": 5
}
